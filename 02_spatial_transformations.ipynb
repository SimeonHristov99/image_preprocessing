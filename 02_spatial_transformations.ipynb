{
 "cells": [
  {
   "cell_type": "markdown",
   "metadata": {},
   "source": [
    "# Spatial Transformations"
   ]
  },
  {
   "cell_type": "markdown",
   "metadata": {},
   "source": [
    "## Task 1\n",
    "\n",
    "Apply the negative spatial operation to `gray.jpg`. Apply the same operation on the result from the histogram equalization of `gray.jpg`.\n"
   ]
  },
  {
   "cell_type": "markdown",
   "metadata": {},
   "source": [
    "## Task 2\n",
    "\n",
    "Apply gamma correction to `gray.jpg` with flattened histogram.\n"
   ]
  },
  {
   "cell_type": "markdown",
   "metadata": {},
   "source": [
    "## Task 3\n",
    "\n",
    "Apply the Contrast Stretching operation to `gray.jpg`. Compare the result with that of histogram flattening. Compare the `gray.jpg` histogram with the one following\n",
    "the Contrast Stretching operation.\n"
   ]
  },
  {
   "cell_type": "markdown",
   "metadata": {},
   "source": [
    "## Task 4\n",
    "\n",
    "Generate a 5x5 matrix of random integers between 0 and 10. Apply a convolution on it with a 3x3 sliding window.\n"
   ]
  },
  {
   "cell_type": "markdown",
   "metadata": {},
   "source": [
    "## Task 5\n",
    "\n",
    "Apply a 3x3 and 5x5 linear smoothing filter to `noisy_cube.jpg`. Compare the results obtained.\n"
   ]
  },
  {
   "cell_type": "markdown",
   "metadata": {},
   "source": [
    "## Task 6\n",
    "\n",
    "Apply a 3x3 and 5x5 sliding window Gaussian filter to `photo.jpg`. Apply it several times in a row. Compare the results obtained.\n"
   ]
  },
  {
   "cell_type": "markdown",
   "metadata": {},
   "source": [
    "## Task 7\n",
    "\n",
    "Apply a 5x5 Gaussian and a 5x5 median filter to `median.jpeg`. Compare received results."
   ]
  },
  {
   "cell_type": "markdown",
   "metadata": {},
   "source": [
    "## Task 8\n",
    "\n",
    "Convert the image `rgb.png` from RGB to HSV. Filter by set criteria HSV pixel values. Transform the filtered result back to RGB."
   ]
  }
 ],
 "metadata": {
  "language_info": {
   "name": "python"
  },
  "orig_nbformat": 4
 },
 "nbformat": 4,
 "nbformat_minor": 2
}
